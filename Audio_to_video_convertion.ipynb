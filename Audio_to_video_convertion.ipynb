{
  "nbformat": 4,
  "nbformat_minor": 0,
  "metadata": {
    "colab": {
      "provenance": []
    },
    "kernelspec": {
      "name": "python3",
      "display_name": "Python 3"
    },
    "language_info": {
      "name": "python"
    }
  },
  "cells": [
    {
      "cell_type": "code",
      "execution_count": null,
      "metadata": {
        "id": "JIbU1_0t4k2b"
      },
      "outputs": [],
      "source": [
        "!pip install pydub\n",
        "\n",
        "from transformers import pipeline\n",
        "from pydub import AudioSegment\n",
        "\n",
        "speech_recognition = pipeline(\"automatic-speech-recognition\", model=\"facebook/wav2vec2-base-960h\")\n",
        "audio_file_path = \"/content/drive/MyDrive/Classroom/003-Elogios.mp3\"\n",
        "audio = AudioSegment.from_mp3(audio_file_path)\n",
        "wav_file_path = \"/content/converted_audio.wav\"\n",
        "audio.export(wav_file_path, format=\"wav\")\n",
        "transcription = speech_recognition(wav_file_path)\n",
        "print(transcription)"
      ]
    }
  ]
}