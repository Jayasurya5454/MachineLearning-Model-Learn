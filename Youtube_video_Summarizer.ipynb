{
  "nbformat": 4,
  "nbformat_minor": 0,
  "metadata": {
    "colab": {
      "provenance": []
    },
    "kernelspec": {
      "name": "python3",
      "display_name": "Python 3"
    },
    "language_info": {
      "name": "python"
    }
  },
  "cells": [
    {
      "cell_type": "markdown",
      "source": [
        "Youtube video to text Summarizer"
      ],
      "metadata": {
        "id": "PnL8icxiFILZ"
      }
    },
    {
      "cell_type": "code",
      "execution_count": null,
      "metadata": {
        "id": "au-gVkVuErId"
      },
      "outputs": [],
      "source": [
        "from transformers import pipeline\n",
        "from youtube_transcript_api import YouTubeTranscriptApi\n",
        "\n",
        "video_id =  \"SdpSgBj4Fog\"\n",
        "transcript = YouTubeTranscriptApi.get_transcript(video_id)\n",
        "summarizer = pipeline(\"summarization\")\n",
        "chunk_size = 500\n",
        "\n",
        "for i in range(0, len(transcript), chunk_size):\n",
        "    chunk = transcript[i:i + chunk_size]\n",
        "    transcript_text = \" \".join([entry[\"text\"] for entry in chunk])\n",
        "    summary = summarizer(transcript_text, max_length=150, min_length=50, length_penalty=2.0, num_beams=4, temperature=0.5)\n",
        "    print(f\"Summary for chunk {i}-{i + chunk_size}:\")\n",
        "    print(summary[0][\"summary_text\"])\n"
      ]
    },
    {
      "cell_type": "markdown",
      "source": [
        "Youtube video to summarized audio"
      ],
      "metadata": {
        "id": "vq2hK4vuFbYR"
      }
    },
    {
      "cell_type": "code",
      "source": [
        "!pip install gtts\n",
        "from transformers import pipeline\n",
        "from youtube_transcript_api import YouTubeTranscriptApi\n",
        "from gtts import gTTS\n",
        "import IPython.display as ipd\n",
        "\n",
        "video_id = \"SdpSgBj4Fog\"\n",
        "transcript = YouTubeTranscriptApi.get_transcript(video_id)\n",
        "\n",
        "summarizer = pipeline(\"summarization\")\n",
        "\n",
        "transcript_text = \" \".join([entry[\"text\"] for entry in transcript])\n",
        "summary = summarizer(transcript_text, max_length=150, min_length=50, length_penalty=2.0, num_beams=4, temperature=0.5)\n",
        "\n",
        "audio_summary = summary[0][\"summary_text\"]\n",
        "tts = gTTS(audio_summary, lang='en')\n",
        "tts.save(\"audio_summary.mp3\")\n",
        "\n",
        "ipd.Audio(\"audio_summary.mp3\")\n"
      ],
      "metadata": {
        "id": "3kxBAISZFGxR"
      },
      "execution_count": null,
      "outputs": []
    }
  ]
}