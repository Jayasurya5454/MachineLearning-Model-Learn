{
  "nbformat": 4,
  "nbformat_minor": 0,
  "metadata": {
    "colab": {
      "provenance": []
    },
    "kernelspec": {
      "name": "python3",
      "display_name": "Python 3"
    },
    "language_info": {
      "name": "python"
    }
  },
  "cells": [
    {
      "cell_type": "code",
      "execution_count": null,
      "metadata": {
        "id": "qqGqg0be4chy"
      },
      "outputs": [],
      "source": [
        "from transformers import pipeline\n",
        "sentiment_analyzer = pipeline('sentiment-analysis')\n",
        "def analyze_sentiment(text):\n",
        "\n",
        "    result = sentiment_analyzer(text)\n",
        "    return result[0]['label'], result[0]['score']\n",
        "\n",
        "user_text = input(\"Enter text for sentiment analysis: \")\n",
        "label, score = analyze_sentiment(user_text)\n",
        "print(f\"Sentiment: {label}, Score: {score}\")"
      ]
    }
  ]
}