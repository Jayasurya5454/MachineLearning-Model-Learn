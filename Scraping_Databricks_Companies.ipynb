{
  "nbformat": 4,
  "nbformat_minor": 0,
  "metadata": {
    "colab": {
      "provenance": []
    },
    "kernelspec": {
      "name": "python3",
      "display_name": "Python 3"
    },
    "language_info": {
      "name": "python"
    }
  },
  "cells": [
    {
      "cell_type": "code",
      "execution_count": null,
      "metadata": {
        "colab": {
          "base_uri": "https://localhost:8080/"
        },
        "id": "g2YlkTDkIvAx",
        "outputId": "2d077536-73f8-4a7e-d8a9-640318f8508e"
      },
      "outputs": [
        {
          "output_type": "stream",
          "name": "stdout",
          "text": [
            "                                 company  \\\n",
            "0                                  365mc   \n",
            "1                         3M Informatics   \n",
            "2               A.P. Moller-Maersk Group   \n",
            "3                                Absolut   \n",
            "4     Abu Dhabi Digital Authority (ADDA)   \n",
            "..                                   ...   \n",
            "97                           Whole Foods   \n",
            "98                          Wineshipping   \n",
            "99                                  Xbox   \n",
            "100       Youth Employment Service (YES)   \n",
            "101                                        \n",
            "\n",
            "                                                   url  \n",
            "0                             https://365mcglobal.com/  \n",
            "1    https://www.3m.com/3M/en_US/health-information...  \n",
            "2                              https://www.maersk.com/  \n",
            "3                             https://www.absolut.com/  \n",
            "4    https://www.mediaoffice.abudhabi/en/topic/abu-...  \n",
            "..                                                 ...  \n",
            "97                   https://www.wholefoodsmarket.com/  \n",
            "98                           https://wineshipping.com/  \n",
            "99                          https://www.xbox.com/en-US  \n",
            "100                             https://www.yes.on.ca/  \n",
            "101                               https://www.usa.gov/  \n",
            "\n",
            "[102 rows x 2 columns]\n"
          ]
        }
      ],
      "source": [
        "from googlesearch import search\n",
        "import requests\n",
        "from bs4 import BeautifulSoup\n",
        "import pandas as pd\n",
        "\n",
        "# Fetching data from the website\n",
        "response = requests.get(\"https://www.contino.io/insights/whos-using-microsoft-azure-2020\")\n",
        "html_data = response.text\n",
        "soup = BeautifulSoup(html_data, 'html.parser')\n",
        "l = soup.find(\"em\")\n",
        "company_list = str(l)[4:-5].split(\",\")\n",
        "\n",
        "# Creating a DataFrame\n",
        "df = pd.DataFrame(index=range(len(company_list)), columns=[\"company\", \"url\"])\n",
        "df[\"company\"] = company_list\n",
        "\n",
        "# Function to get the company website\n",
        "def get_company_website(company_name):\n",
        "    try:\n",
        "        # Use Google search to get the most relevant link\n",
        "        query = f\"official website of {company_name}\"\n",
        "        for result in search(query, num=1):  # Fetch only the first result\n",
        "            return result\n",
        "    except Exception as e:\n",
        "        print(f\"An error occurred: {e}\")\n",
        "        return None\n",
        "\n",
        "# Adding website links to the DataFrame\n",
        "df[\"url\"] = df[\"company\"].apply(get_company_website)\n",
        "\n",
        "# Printing the DataFrame\n",
        "print(df)\n",
        "\n",
        "# Saving the DataFrame to a CSV file\n",
        "df.to_csv(\"databricks_company.csv\", index=False)\n"
      ]
    },
    {
      "cell_type": "code",
      "source": [],
      "metadata": {
        "id": "lOJ4UE9XI1hK"
      },
      "execution_count": null,
      "outputs": []
    }
  ]
}