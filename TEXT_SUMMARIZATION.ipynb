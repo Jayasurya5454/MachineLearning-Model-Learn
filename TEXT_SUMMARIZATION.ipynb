{
  "nbformat": 4,
  "nbformat_minor": 0,
  "metadata": {
    "colab": {
      "provenance": []
    },
    "kernelspec": {
      "name": "python3",
      "display_name": "Python 3"
    },
    "language_info": {
      "name": "python"
    }
  },
  "cells": [
    {
      "cell_type": "code",
      "execution_count": null,
      "metadata": {
        "id": "hFKTtM3A4bvZ"
      },
      "outputs": [],
      "source": [
        "from transformers import pipeline\n",
        "\n",
        "def text_summarizer(text):\n",
        "    summarizer = pipeline(\"summarization\")\n",
        "    summary = summarizer(text, max_length=500, min_length=50, length_penalty=2.0, num_beams=4, early_stopping=True)\n",
        "    return summary[0]['summary_text']\n",
        "\n",
        "user_input_text = input(\"Enter the text you want to summarize:\\n\")\n",
        "result = text_summarizer(user_input_text)\n",
        "print(\"\\nOriginal Text:\\n\", user_input_text)\n",
        "print(\"\\nSummary:\\n\", result)\n"
      ]
    }
  ]
}