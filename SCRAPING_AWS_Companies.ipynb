{
  "nbformat": 4,
  "nbformat_minor": 0,
  "metadata": {
    "colab": {
      "provenance": []
    },
    "kernelspec": {
      "name": "python3",
      "display_name": "Python 3"
    },
    "language_info": {
      "name": "python"
    }
  },
  "cells": [
    {
      "cell_type": "code",
      "source": [
        "from googlesearch import search\n",
        "import requests\n",
        "from bs4 import BeautifulSoup\n",
        "import pandas as pd\n",
        "\n",
        "response = requests.get(\"https://www.contino.io/insights/whos-using-aws\")\n",
        "html_data = response.text\n",
        "soup = BeautifulSoup(html_data, 'html.parser')\n",
        "l = soup.find(\"em\")\n",
        "company_list = str(l)[4:-5].split(\",\")\n",
        "\n",
        "df = pd.DataFrame(index=range(len(company_list)), columns=[\"company\", \"url\"])\n",
        "df[\"company\"] = company_list\n",
        "\n",
        "def get_company_website(company_name):\n",
        "    try:\n",
        "        query = f\"official website of {company_name}\"\n",
        "        for result in search(query, num=1):\n",
        "            return result\n",
        "    except Exception as e:\n",
        "        print(f\"An error occurred: {e}\")\n",
        "        return None\n",
        "\n",
        "df[\"url\"] = df[\"company\"].apply(get_company_website)\n",
        "print(df)\n",
        "df.to_csv(\"aws_companies.csv\", index=False)\n"
      ],
      "metadata": {
        "colab": {
          "base_uri": "https://localhost:8080/"
        },
        "id": "lsXpQ8lXnkVI",
        "outputId": "ef11246c-11a7-4270-9242-0469af0475ee"
      },
      "execution_count": null,
      "outputs": [
        {
          "output_type": "stream",
          "name": "stdout",
          "text": [
            "               company                             url\n",
            "0                  Aon         https://www.aon.com/en/\n",
            "1                Adobe          https://www.adobe.com/\n",
            "2               Airbnb         https://www.airbnb.com/\n",
            "3       Alcatel-Lucent  https://www.al-enterprise.com/\n",
            "4                  AOL            https://www.aol.com/\n",
            "..                 ...                             ...\n",
            "94          WeTransfer         https://wetransfer.com/\n",
            "95                 WIX            https://www.wix.com/\n",
            "96              Xiaomi          https://www.mi.com/us/\n",
            "97                Yelp           https://www.yelp.com/\n",
            "98   Zynga and Zillow.         https://www.zillow.com/\n",
            "\n",
            "[99 rows x 2 columns]\n"
          ]
        }
      ]
    },
    {
      "cell_type": "code",
      "source": [],
      "metadata": {
        "id": "rodmmP9_wZmT"
      },
      "execution_count": null,
      "outputs": []
    }
  ]
}