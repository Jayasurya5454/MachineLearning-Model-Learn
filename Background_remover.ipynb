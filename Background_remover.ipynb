{
  "cells": [
    {
      "cell_type": "code",
      "execution_count": null,
      "metadata": {
        "colab": {
          "background_save": true
        },
        "id": "qlAB6CLhRGH9"
      },
      "outputs": [],
      "source": [
        "import torch\n",
        "from torchvision import models, transforms\n",
        "from PIL import Image\n",
        "import os\n",
        "\n",
        "model = models.segmentation.deeplabv3_resnet101(pretrained=True)\n",
        "model.eval()\n",
        "\n",
        "transform = transforms.Compose([\n",
        "    transforms.ToTensor(),\n",
        "])\n",
        "\n",
        "\n",
        "def load_and_preprocess_image(image_path):\n",
        "    image = Image.open(image_path).convert(\"RGB\")\n",
        "    input_tensor = transform(image).unsqueeze(0)\n",
        "    return input_tensor\n",
        "\n",
        "\n",
        "def segment_image(image_tensor, model):\n",
        "    with torch.no_grad():\n",
        "        output = model(image_tensor)['out'][0]\n",
        "        predictions = output.argmax(0)\n",
        "    return predictions\n",
        "\n",
        "\n",
        "def remove_background(input_image_path, output_image_path):\n",
        "    input_tensor = load_and_preprocess_image(input_image_path)\n",
        "    mask = segment_image(input_tensor, model)\n",
        "\n",
        "\n",
        "    binary_mask = (mask == 15).float()\n",
        "\n",
        "\n",
        "    binary_mask = transforms.Resize(input_tensor.shape[2:])(transforms.ToPILImage()(binary_mask))\n",
        "\n",
        "    binary_mask = transforms.ToTensor()(binary_mask).permute(1, 2, 0).numpy()\n",
        "    result_image = input_tensor.squeeze(0).permute(1, 2, 0).numpy() * binary_mask\n",
        "    result_image = Image.fromarray((result_image * 255).astype('uint8'))\n",
        "    result_image.save(output_image_path)\n",
        "\n",
        "input_image_path = \"/content/photo.jpg\"\n",
        "\n",
        "input_directory, input_filename = os.path.split(input_image_path)\n",
        "\n",
        "output_image_filename = f\"output_{input_filename}\"\n",
        "output_image_path = os.path.join(input_directory, output_image_filename)\n",
        "\n",
        "remove_background(input_image_path, output_image_path)\n"
      ]
    }
  ],
  "metadata": {
    "colab": {
      "provenance": []
    },
    "kernelspec": {
      "display_name": "Python 3",
      "name": "python3"
    },
    "language_info": {
      "name": "python"
    }
  },
  "nbformat": 4,
  "nbformat_minor": 0
}